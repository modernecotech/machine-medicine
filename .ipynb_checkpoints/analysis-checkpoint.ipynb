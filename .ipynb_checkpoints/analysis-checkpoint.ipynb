{
 "cells": [
  {
   "cell_type": "code",
   "execution_count": 1,
   "metadata": {},
   "outputs": [],
   "source": [
    "#Hayder Aziz, machine medicine analysis of left and right hand movemement to track parkinson disease progression\n",
    "#each hand's data set has a nested list with 3 figures (x, y, confidence score). each reading has 21 nested lists. The values \n",
    "#in this data set are 2D only as there's no z axis reading. There are a total of 900 readings for each hand. \n",
    "\n",
    "#need to check for speed, amplitude of movement, hesitation, halts and decrementing amplitude\n",
    "# for each reading come up with a figure for the above and compare over the time series for 900 figures.\n",
    "\n",
    "\n",
    "import numpy as np\n",
    "import pandas as pd\n",
    "import seaborn as sns\n",
    "import matplotlib as plt\n",
    "import json\n",
    "%matplotlib inline"
   ]
  },
  {
   "cell_type": "code",
   "execution_count": 187,
   "metadata": {},
   "outputs": [],
   "source": [
    "left_hand_data = pd.DataFrame(pd.read_json('hand_left_keypoints.json', typ='frame'))\n",
    "right_hand_data = pd.DataFrame(pd.read_json('hand_right_keypoints.json', typ='frame'))"
   ]
  },
  {
   "cell_type": "code",
   "execution_count": 226,
   "metadata": {},
   "outputs": [],
   "source": [
    "Lrow1=left_hand_data[:1].unstack().apply(pd.Series) #just seeing the first example of a left hand data set."
   ]
  },
  {
   "cell_type": "code",
   "execution_count": 190,
   "metadata": {},
   "outputs": [
    {
     "data": {
      "text/plain": [
       "[345.054, -464.867, 0.356979]"
      ]
     },
     "execution_count": 190,
     "metadata": {},
     "output_type": "execute_result"
    }
   ],
   "source": [
    "left_hand_data[0].iloc[1] #an example of a left hand data set, there are 21 records per reading. "
   ]
  },
  {
   "cell_type": "code",
   "execution_count": 227,
   "metadata": {},
   "outputs": [
    {
     "data": {
      "text/plain": [
       "<matplotlib.axes._subplots.AxesSubplot at 0x17bf98fb048>"
      ]
     },
     "execution_count": 227,
     "metadata": {},
     "output_type": "execute_result"
    },
    {
     "data": {
      "image/png": "[encoded data removed]",
      "text/plain": [
       "<Figure size 432x288 with 1 Axes>"
      ]
     },
     "metadata": {
      "needs_background": "light"
     },
     "output_type": "display_data"
    }
   ],
   "source": [
    "Lrow1.plot(kind='scatter',x=0,y=1) #scatter plot of the first set of row1"
   ]
  },
  {
   "cell_type": "code",
   "execution_count": 208,
   "metadata": {},
   "outputs": [
    {
     "data": {
      "text/plain": [
       "<matplotlib.axes._subplots.AxesSubplot at 0x17bfcc83b38>"
      ]
     },
     "execution_count": 208,
     "metadata": {},
     "output_type": "execute_result"
    },
    {
     "data": {
      "image/png": "[encoded data removed]",
      "text/plain": [
       "<Figure size 432x288 with 1 Axes>"
      ]
     },
     "metadata": {
      "needs_background": "light"
     },
     "output_type": "display_data"
    }
   ],
   "source": [
    "df_lists = left_hand_data[[20]].unstack().apply(pd.Series)\n",
    "df_lists.plot(kind='scatter', x=0, y=1)"
   ]
  },
  {
   "cell_type": "code",
   "execution_count": 209,
   "metadata": {},
   "outputs": [],
   "source": [
    "df_lists = left_hand_data[[20]].unstack().apply(pd.Series)"
   ]
  },
  {
   "cell_type": "code",
   "execution_count": 210,
   "metadata": {},
   "outputs": [
    {
     "name": "stdout",
     "output_type": "stream",
     "text": [
      "              0        1         2\n",
      "20 0    357.663 -530.761  0.270464\n",
      "   1    351.935 -537.498  0.296323\n",
      "   2    351.497 -535.724  0.331304\n",
      "   3    351.506 -534.205  0.379983\n",
      "   4    350.406 -535.947  0.336142\n",
      "   5    349.974 -536.696  0.379215\n",
      "   6    349.994 -534.790  0.278281\n",
      "   7    350.091 -537.480  0.291805\n",
      "   8    349.293 -538.860  0.336681\n",
      "   9    349.679 -534.895  0.304899\n",
      "   10   351.046 -533.179  0.286766\n",
      "   11   350.716 -534.451  0.359048\n",
      "   12   353.042 -532.504  0.380489\n",
      "   13   354.824 -531.489  0.499437\n",
      "   14   355.864 -530.737  0.414825\n",
      "   15   358.921 -531.562  0.462073\n",
      "   16   360.901 -530.909  0.407098\n",
      "   17   360.549 -532.093  0.423212\n",
      "   18   362.469 -532.360  0.426787\n",
      "   19   365.701 -530.311  0.466247\n",
      "   20   366.674 -529.869  0.407144\n",
      "   21   367.619 -529.958  0.373240\n",
      "   22   367.533 -531.225  0.453524\n",
      "   23   368.965 -529.801  0.429040\n",
      "   24   367.711 -531.649  0.389716\n",
      "   25   367.879 -531.033  0.281837\n",
      "   26   367.529 -531.391  0.362459\n",
      "   27   367.509 -531.025  0.309429\n",
      "   28   367.489 -529.502  0.382454\n",
      "   29   367.145 -529.283  0.373074\n",
      "...         ...      ...       ...\n",
      "   870  333.405 -325.781  0.056878\n",
      "   871  339.665 -321.177  0.035999\n",
      "   872  342.439 -342.137  0.040750\n",
      "   873  314.858 -364.921  0.041200\n",
      "   874  323.302 -394.718  0.025474\n",
      "   875  326.575 -419.968  0.025618\n",
      "   876  332.052 -438.276  0.132001\n",
      "   877  338.190 -461.178  0.622957\n",
      "   878  341.458 -468.693  0.674453\n",
      "   879  341.834 -477.336  0.730303\n",
      "   880  343.491 -483.774  0.628734\n",
      "   881  343.795 -489.347  0.679390\n",
      "   882  343.732 -492.990  0.682236\n",
      "   883  344.227 -492.619  0.663777\n",
      "   884  345.074 -492.697  0.684983\n",
      "   885  344.957 -494.463  0.743114\n",
      "   886  347.358 -495.430  0.820759\n",
      "   887  351.455 -496.091  0.620817\n",
      "   888  355.318 -499.509  0.540932\n",
      "   889  356.431 -502.927  0.485275\n",
      "   890  358.108 -507.896  0.651748\n",
      "   891  360.201 -508.644  0.578890\n",
      "   892  359.859 -507.388  0.460788\n",
      "   893  359.564 -508.129  0.480980\n",
      "   894  359.185 -509.130  0.464163\n",
      "   895  357.722 -508.853  0.383801\n",
      "   896  358.829 -508.416  0.357849\n",
      "   897  358.510 -508.711  0.366668\n",
      "   898  357.769 -509.039  0.360940\n",
      "   899  356.661 -508.831  0.339051\n",
      "\n",
      "[900 rows x 3 columns]\n"
     ]
    }
   ],
   "source": [
    "print(df_lists)"
   ]
  },
  {
   "cell_type": "code",
   "execution_count": null,
   "metadata": {},
   "outputs": [],
   "source": []
  }
 ],
 "metadata": {
  "kernelspec": {
   "display_name": "Python 3",
   "language": "python",
   "name": "python3"
  },
  "language_info": {
   "codemirror_mode": {
    "name": "ipython",
    "version": 3
   },
   "file_extension": ".py",
   "mimetype": "text/x-python",
   "name": "python",
   "nbconvert_exporter": "python",
   "pygments_lexer": "ipython3",
   "version": "3.6.8"
  }
 },
 "nbformat": 4,
 "nbformat_minor": 2
}
