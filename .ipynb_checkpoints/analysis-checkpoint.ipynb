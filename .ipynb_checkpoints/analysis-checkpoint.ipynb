{
 "cells": [
  {
   "cell_type": "code",
   "execution_count": 1,
   "metadata": {},
   "outputs": [],
   "source": [
    "#Hayder Aziz, machine medicine analysis of left and right hand movemement to track parkinson disease progression\n",
    "#each hand's data set has an array with 3 figures (x, y, confidence score). each reading has 20 frames. The values \n",
    "#in this data set are 2D only as there's no z axis reading. There are a total of 900 readings for each hand. \n",
    "\n",
    "#The \n",
    "import numpy as np\n",
    "import pandas as pd\n",
    "import seaborn as sns\n",
    "import matplotlib as plt\n",
    "import json\n",
    "%matplotlib inline"
   ]
  },
  {
   "cell_type": "code",
   "execution_count": 44,
   "metadata": {},
   "outputs": [],
   "source": [
    "left_hand_data = pd.read_json('hand_left_keypoints.json',lines=False, typ='series', orient='records')\n",
    "right_hand_data = pd.read_json('hand_right_keypoints.json',lines=False, typ='series', orient='records')"
   ]
  },
  {
   "cell_type": "code",
   "execution_count": 45,
   "metadata": {},
   "outputs": [
    {
     "data": {
      "text/plain": [
       "[[72.2655, -475.196, 0.435774],\n",
       " [88.9113, -484.074, 0.476952],\n",
       " [103.338, -504.049, 0.723395],\n",
       " [104.077, -521.065, 0.6753100000000001],\n",
       " [103.708, -531.422, 0.6338100000000001],\n",
       " [92.9803, -511.817, 0.793804],\n",
       " [94.09, -533.642, 0.719637],\n",
       " [91.8705, -548.808, 0.676265],\n",
       " [89.2812, -558.425, 0.407404],\n",
       " [79.6637, -513.667, 0.813728],\n",
       " [83.3627, -538.82, 0.653002],\n",
       " [83.3627, -551.027, 0.689313],\n",
       " [85.5821, -560.275, 0.44160099999999997],\n",
       " [67.4568, -515.146, 0.810457],\n",
       " [71.8956, -536.971, 0.7659400000000001],\n",
       " [71.5257, -531.422, 0.348893],\n",
       " [71.5257, -525.504, 0.307627],\n",
       " [59.6888, -515.886, 0.7881],\n",
       " [62.648, -527.723, 0.49818199999999996],\n",
       " [62.648, -524.764, 0.5110049999999999],\n",
       " [63.0179, -519.955, 0.44273799999999996]]"
      ]
     },
     "execution_count": 45,
     "metadata": {},
     "output_type": "execute_result"
    }
   ],
   "source": [
    "right_hand_data[0] #just seeing an example of a right hand data set. as can be seen there are 20 readings per reading"
   ]
  },
  {
   "cell_type": "code",
   "execution_count": 46,
   "metadata": {},
   "outputs": [
    {
     "data": {
      "text/plain": [
       "[[344.761, -459.801, 0.35653399999999996],\n",
       " [334.515, -473.462, 0.5120819999999999],\n",
       " [325.029, -493.573, 0.693052],\n",
       " [325.408, -513.685, 0.668496],\n",
       " [329.203, -525.448, 0.486182],\n",
       " [339.828, -496.229, 0.815747],\n",
       " [337.93, -519.756, 0.753209],\n",
       " [336.792, -534.176, 0.682649],\n",
       " [335.274, -542.145, 0.665786],\n",
       " [352.35, -496.988, 0.808404],\n",
       " [349.314, -523.93, 0.752977],\n",
       " [345.899, -539.109, 0.792076],\n",
       " [342.863, -549.734, 0.726664],\n",
       " [360.698, -497.368, 0.673886],\n",
       " [358.421, -522.033, 0.65632],\n",
       " [355.006, -533.796, 0.631899],\n",
       " [351.971, -541.765, 0.477336],\n",
       " [366.77, -498.886, 0.805307],\n",
       " [364.493, -517.1, 0.7577379999999999],\n",
       " [361.457, -522.792, 0.460572],\n",
       " [357.663, -530.761, 0.270464]]"
      ]
     },
     "execution_count": 46,
     "metadata": {},
     "output_type": "execute_result"
    }
   ],
   "source": [
    "left_hand_data[0] #an example of a left hand data set, there are 20 records per reading. "
   ]
  },
  {
   "cell_type": "code",
   "execution_count": 49,
   "metadata": {},
   "outputs": [
    {
     "data": {
      "text/plain": [
       "[[335.951, -447.792, 0.38281499999999996],\n",
       " [325.414, -457.238, 0.6049559999999999],\n",
       " [318.875, -475.405, 0.794287],\n",
       " [322.871, -491.028, 0.719407],\n",
       " [324.688, -505.924, 0.8594700000000001],\n",
       " [336.314, -476.131, 0.6681269999999999],\n",
       " [338.494, -493.571, 0.7460289999999999],\n",
       " [337.041, -505.924, 0.753265],\n",
       " [338.858, -516.461, 0.807863],\n",
       " [347.941, -476.858, 0.7360789999999999],\n",
       " [350.484, -495.751, 0.675528],\n",
       " [347.941, -511.737, 0.711471],\n",
       " [345.761, -522.637, 0.8297439999999999],\n",
       " [354.117, -478.675, 0.729381],\n",
       " [357.024, -494.661, 0.6569729999999999],\n",
       " [355.934, -511.011, 0.6711889999999999],\n",
       " [352.664, -523.364, 0.688796],\n",
       " [357.024, -479.765, 0.725065],\n",
       " [359.567, -493.934, 0.637712],\n",
       " [357.75, -504.108, 0.386818],\n",
       " [356.661, -508.831, 0.339051]]"
      ]
     },
     "execution_count": 49,
     "metadata": {},
     "output_type": "execute_result"
    }
   ],
   "source": [
    "left_hand_data[899]"
   ]
  },
  {
   "cell_type": "code",
   "execution_count": null,
   "metadata": {},
   "outputs": [],
   "source": []
  }
 ],
 "metadata": {
  "kernelspec": {
   "display_name": "Python 3",
   "language": "python",
   "name": "python3"
  },
  "language_info": {
   "codemirror_mode": {
    "name": "ipython",
    "version": 3
   },
   "file_extension": ".py",
   "mimetype": "text/x-python",
   "name": "python",
   "nbconvert_exporter": "python",
   "pygments_lexer": "ipython3",
   "version": "3.6.8"
  }
 },
 "nbformat": 4,
 "nbformat_minor": 2
}
