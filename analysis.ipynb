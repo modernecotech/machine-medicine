{
 "cells": [
  {
   "cell_type": "code",
   "execution_count": 1,
   "metadata": {},
   "outputs": [],
   "source": [
    "#Hayder Aziz, machine medicine analysis of left and right hand movemement to track parkinson disease progression\n",
    "import numpy as np\n",
    "import pandas as pd\n",
    "import seaborn as sns\n",
    "import matplotlib as plt\n",
    "import json\n",
    "%matplotlib inline"
   ]
  },
  {
   "cell_type": "code",
   "execution_count": 41,
   "metadata": {},
   "outputs": [],
   "source": [
    "left_hand_data = pd.read_json('hand_left_keypoints.json',lines=False, typ='series', orient='index')\n",
    "right_hand_data = pd.read_json('hand_right_keypoints.json',lines=False, typ='series', orient='records')"
   ]
  },
  {
   "cell_type": "code",
   "execution_count": 42,
   "metadata": {},
   "outputs": [
    {
     "data": {
      "text/plain": [
       "[[70.6503, -471.346, 0.463155],\n",
       " [86.9528, -480.824, 0.480751],\n",
       " [101.739, -501.297, 0.699137],\n",
       " [102.497, -517.979, 0.669671],\n",
       " [101.739, -527.457, 0.644428],\n",
       " [92.2605, -508.501, 0.806987],\n",
       " [91.8814, -532.006, 0.719256],\n",
       " [88.4693, -547.93, 0.679129],\n",
       " [85.0571, -557.787, 0.38953000000000004],\n",
       " [78.612, -511.154, 0.7981429999999999],\n",
       " [81.645, -535.419, 0.6502519999999999],\n",
       " [81.2659, -548.309, 0.68015],\n",
       " [81.2659, -557.787, 0.38725499999999996],\n",
       " [66.1008, -511.913, 0.8560869999999999],\n",
       " [70.2712, -533.902, 0.7682939999999999],\n",
       " [69.513, -528.215, 0.30804000000000004],\n",
       " [69.513, -522.528, 0.317643],\n",
       " [57.7601, -511.913, 0.802331],\n",
       " [60.7931, -523.666, 0.6179169999999999],\n",
       " [60.7931, -520.633, 0.593088],\n",
       " [61.1722, -516.083, 0.436963]]"
      ]
     },
     "execution_count": 42,
     "metadata": {},
     "output_type": "execute_result"
    }
   ],
   "source": [
    "right_hand_data[2]"
   ]
  },
  {
   "cell_type": "code",
   "execution_count": null,
   "metadata": {},
   "outputs": [],
   "source": []
  }
 ],
 "metadata": {
  "kernelspec": {
   "display_name": "Python 3",
   "language": "python",
   "name": "python3"
  },
  "language_info": {
   "codemirror_mode": {
    "name": "ipython",
    "version": 3
   },
   "file_extension": ".py",
   "mimetype": "text/x-python",
   "name": "python",
   "nbconvert_exporter": "python",
   "pygments_lexer": "ipython3",
   "version": "3.6.8"
  }
 },
 "nbformat": 4,
 "nbformat_minor": 2
}
